{
 "cells": [
  {
   "cell_type": "markdown",
   "metadata": {},
   "source": [
    "# How to Deploy Hugging Face Models in a Docker Container\n",
    "\n",
    "> This is the repository for the tutorial on how to deploy Hugging Face models in a Docker container and to expose it as a web service endpoint using Flask. The tutorial is available on [this blog post](https://fgiasson.com/blog/index.php/2023/08/23/how-to-deploy-hugging-face-models-in-a-docker-container/)."
   ]
  },
  {
   "cell_type": "markdown",
   "metadata": {},
   "source": [
    "## Install"
   ]
  },
  {
   "cell_type": "markdown",
   "metadata": {},
   "source": [
    "To use the translation service, you need to have Docker installed. The best way to install it is by installing [Docker Desktop](https://www.docker.com/products/docker-desktop/) of your local computer.\n",
    "\n",
    "The next step is to clone this repository:\n",
    "\n",
    "```sh\n",
    "git clone https://github.com/fgiasson/literate-en-fr-translation-service.git\n",
    "```\n",
    "\n",
    "Finally, you only have to run this `Make` command to build the Docker image:\n",
    "\n",
    "```sh\n",
    "make build\n",
    "```\n",
    "\n",
    "That will create the Docker image from which you will be able to create a container using Docker Decktop. \n",
    "\n",
    "Refer to [this blog post](https://fgiasson.com/blog/index.php/2023/08/23/how-to-deploy-hugging-face-models-in-a-docker-container/) for detailed information about how it works."
   ]
  },
  {
   "cell_type": "markdown",
   "metadata": {},
   "source": [
    "# How to use\n",
    "\n",
    "## Web Service Endpoints\n",
    "\n",
    "Once you have the container running, you can use the web service endpoints to translate text from English to French and vice-versa. The two endpoints are:\n",
    "\n",
    " - `/translate/en/fr`\n",
    " - `/translate/fr/en`\n",
    "\n",
    "Then you can test the web service endpoints using `curl`:\n",
    "\n",
    "```bash\n",
    "curl http://localhost:6000/translate/en/fr/ POST -H \"Content-Type: application/json\" -d '{\"en_text\":\"Hello World!\"}'\n",
    "```\n",
    "\n",
    "The output should be:\n",
    "\n",
    "```json\n",
    "{\n",
    "  \"fr_text\": \"Bonjour le monde!\"\n",
    "}\n",
    "```\n",
    "\n",
    "```bash\n",
    "curl http://localhost:6000/translate/fr/en/ POST -H \"Content-Type: application/json\" -d '{\"fr_text\":\"Bonjour le monde!\"}'\n",
    "```\n",
    "\n",
    "The output should be:\n",
    "\n",
    "```json\n",
    "{\n",
    "  \"en_text\": \"Hello world!\"\n",
    "}\n",
    "```"
   ]
  },
  {
   "cell_type": "markdown",
   "metadata": {},
   "source": []
  }
 ],
 "metadata": {
  "kernelspec": {
   "display_name": "python3",
   "language": "python",
   "name": "python3"
  }
 },
 "nbformat": 4,
 "nbformat_minor": 4
}
